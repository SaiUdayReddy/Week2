{
 "cells": [
  {
   "cell_type": "code",
   "execution_count": 1,
   "id": "ce986e7e",
   "metadata": {},
   "outputs": [
    {
     "name": "stdout",
     "output_type": "stream",
     "text": [
      "Requirement already satisfied: pandas in c:\\users\\home\\anaconda3\\lib\\site-packages (1.3.4)\n",
      "Requirement already satisfied: pytz>=2017.3 in c:\\users\\home\\anaconda3\\lib\\site-packages (from pandas) (2021.3)\n",
      "Requirement already satisfied: python-dateutil>=2.7.3 in c:\\users\\home\\anaconda3\\lib\\site-packages (from pandas) (2.8.2)\n",
      "Requirement already satisfied: numpy>=1.17.3 in c:\\users\\home\\anaconda3\\lib\\site-packages (from pandas) (1.20.3)\n",
      "Requirement already satisfied: six>=1.5 in c:\\users\\home\\anaconda3\\lib\\site-packages (from python-dateutil>=2.7.3->pandas) (1.16.0)\n"
     ]
    }
   ],
   "source": [
    "!pip install pandas"
   ]
  },
  {
   "cell_type": "code",
   "execution_count": 5,
   "id": "a31d54a5",
   "metadata": {},
   "outputs": [],
   "source": [
    "import pandas as pd"
   ]
  },
  {
   "cell_type": "code",
   "execution_count": 16,
   "id": "ab5252b4",
   "metadata": {},
   "outputs": [],
   "source": [
    "df = pd.read_csv('Downloads\\Car_Insurance.csv')"
   ]
  },
  {
   "cell_type": "code",
   "execution_count": 18,
   "id": "e048ec07",
   "metadata": {},
   "outputs": [
    {
     "data": {
      "text/html": [
       "<div>\n",
       "<style scoped>\n",
       "    .dataframe tbody tr th:only-of-type {\n",
       "        vertical-align: middle;\n",
       "    }\n",
       "\n",
       "    .dataframe tbody tr th {\n",
       "        vertical-align: top;\n",
       "    }\n",
       "\n",
       "    .dataframe thead th {\n",
       "        text-align: right;\n",
       "    }\n",
       "</style>\n",
       "<table border=\"1\" class=\"dataframe\">\n",
       "  <thead>\n",
       "    <tr style=\"text-align: right;\">\n",
       "      <th></th>\n",
       "      <th>Make</th>\n",
       "      <th>Age</th>\n",
       "      <th>Mileage</th>\n",
       "      <th>Fuel</th>\n",
       "      <th>Gearbox</th>\n",
       "      <th>Colour</th>\n",
       "      <th>Claimed</th>\n",
       "    </tr>\n",
       "  </thead>\n",
       "  <tbody>\n",
       "    <tr>\n",
       "      <th>0</th>\n",
       "      <td>Toyota</td>\n",
       "      <td>2.0</td>\n",
       "      <td>27000.0</td>\n",
       "      <td>P</td>\n",
       "      <td>A</td>\n",
       "      <td>Red</td>\n",
       "      <td>Yes</td>\n",
       "    </tr>\n",
       "    <tr>\n",
       "      <th>1</th>\n",
       "      <td>Ford</td>\n",
       "      <td>4.0</td>\n",
       "      <td>30500.0</td>\n",
       "      <td>P</td>\n",
       "      <td>M</td>\n",
       "      <td>Black</td>\n",
       "      <td>Yes</td>\n",
       "    </tr>\n",
       "    <tr>\n",
       "      <th>2</th>\n",
       "      <td>Toyota</td>\n",
       "      <td>15.0</td>\n",
       "      <td>120000.0</td>\n",
       "      <td>D</td>\n",
       "      <td>A</td>\n",
       "      <td>White</td>\n",
       "      <td>No</td>\n",
       "    </tr>\n",
       "    <tr>\n",
       "      <th>3</th>\n",
       "      <td>Nissan</td>\n",
       "      <td>13.0</td>\n",
       "      <td>53000.0</td>\n",
       "      <td>D</td>\n",
       "      <td>M</td>\n",
       "      <td>White</td>\n",
       "      <td>No</td>\n",
       "    </tr>\n",
       "    <tr>\n",
       "      <th>4</th>\n",
       "      <td>Nissan</td>\n",
       "      <td>2.0</td>\n",
       "      <td>NaN</td>\n",
       "      <td>D</td>\n",
       "      <td>M</td>\n",
       "      <td>Black</td>\n",
       "      <td>No</td>\n",
       "    </tr>\n",
       "    <tr>\n",
       "      <th>5</th>\n",
       "      <td>Ford</td>\n",
       "      <td>8.0</td>\n",
       "      <td>73000.0</td>\n",
       "      <td>NaN</td>\n",
       "      <td>M</td>\n",
       "      <td>Green</td>\n",
       "      <td>No</td>\n",
       "    </tr>\n",
       "    <tr>\n",
       "      <th>6</th>\n",
       "      <td>Toyota</td>\n",
       "      <td>NaN</td>\n",
       "      <td>138000.0</td>\n",
       "      <td>P</td>\n",
       "      <td>M</td>\n",
       "      <td>NaN</td>\n",
       "      <td>Yes</td>\n",
       "    </tr>\n",
       "    <tr>\n",
       "      <th>7</th>\n",
       "      <td>Nissan</td>\n",
       "      <td>20.0</td>\n",
       "      <td>38000.0</td>\n",
       "      <td>D</td>\n",
       "      <td>NaN</td>\n",
       "      <td>Green</td>\n",
       "      <td>Yes</td>\n",
       "    </tr>\n",
       "    <tr>\n",
       "      <th>8</th>\n",
       "      <td>Toyota</td>\n",
       "      <td>13.0</td>\n",
       "      <td>67000.0</td>\n",
       "      <td>D</td>\n",
       "      <td>A</td>\n",
       "      <td>Blue</td>\n",
       "      <td>No</td>\n",
       "    </tr>\n",
       "    <tr>\n",
       "      <th>9</th>\n",
       "      <td>Nissan</td>\n",
       "      <td>7.0</td>\n",
       "      <td>36000.0</td>\n",
       "      <td>P</td>\n",
       "      <td>M</td>\n",
       "      <td>Black</td>\n",
       "      <td>Yes</td>\n",
       "    </tr>\n",
       "  </tbody>\n",
       "</table>\n",
       "</div>"
      ],
      "text/plain": [
       "     Make   Age   Mileage Fuel Gearbox Colour Claimed\n",
       "0  Toyota   2.0   27000.0    P       A    Red     Yes\n",
       "1    Ford   4.0   30500.0    P       M  Black     Yes\n",
       "2  Toyota  15.0  120000.0    D       A  White      No\n",
       "3  Nissan  13.0   53000.0    D       M  White      No\n",
       "4  Nissan   2.0       NaN    D       M  Black      No\n",
       "5    Ford   8.0   73000.0  NaN       M  Green      No\n",
       "6  Toyota   NaN  138000.0    P       M    NaN     Yes\n",
       "7  Nissan  20.0   38000.0    D     NaN  Green     Yes\n",
       "8  Toyota  13.0   67000.0    D       A   Blue      No\n",
       "9  Nissan   7.0   36000.0    P       M  Black     Yes"
      ]
     },
     "execution_count": 18,
     "metadata": {},
     "output_type": "execute_result"
    }
   ],
   "source": [
    "df"
   ]
  },
  {
   "cell_type": "code",
   "execution_count": 19,
   "id": "a02ec609",
   "metadata": {},
   "outputs": [
    {
     "data": {
      "text/html": [
       "<div>\n",
       "<style scoped>\n",
       "    .dataframe tbody tr th:only-of-type {\n",
       "        vertical-align: middle;\n",
       "    }\n",
       "\n",
       "    .dataframe tbody tr th {\n",
       "        vertical-align: top;\n",
       "    }\n",
       "\n",
       "    .dataframe thead th {\n",
       "        text-align: right;\n",
       "    }\n",
       "</style>\n",
       "<table border=\"1\" class=\"dataframe\">\n",
       "  <thead>\n",
       "    <tr style=\"text-align: right;\">\n",
       "      <th></th>\n",
       "      <th>Make</th>\n",
       "      <th>Age</th>\n",
       "      <th>Mileage</th>\n",
       "      <th>Fuel</th>\n",
       "      <th>Gearbox</th>\n",
       "      <th>Colour</th>\n",
       "      <th>Claimed</th>\n",
       "    </tr>\n",
       "  </thead>\n",
       "  <tbody>\n",
       "    <tr>\n",
       "      <th>0</th>\n",
       "      <td>Toyota</td>\n",
       "      <td>2.0</td>\n",
       "      <td>27000.0</td>\n",
       "      <td>P</td>\n",
       "      <td>A</td>\n",
       "      <td>Red</td>\n",
       "      <td>Yes</td>\n",
       "    </tr>\n",
       "    <tr>\n",
       "      <th>1</th>\n",
       "      <td>Ford</td>\n",
       "      <td>4.0</td>\n",
       "      <td>30500.0</td>\n",
       "      <td>P</td>\n",
       "      <td>M</td>\n",
       "      <td>Black</td>\n",
       "      <td>Yes</td>\n",
       "    </tr>\n",
       "    <tr>\n",
       "      <th>2</th>\n",
       "      <td>Toyota</td>\n",
       "      <td>15.0</td>\n",
       "      <td>120000.0</td>\n",
       "      <td>D</td>\n",
       "      <td>A</td>\n",
       "      <td>White</td>\n",
       "      <td>No</td>\n",
       "    </tr>\n",
       "    <tr>\n",
       "      <th>3</th>\n",
       "      <td>Nissan</td>\n",
       "      <td>13.0</td>\n",
       "      <td>53000.0</td>\n",
       "      <td>D</td>\n",
       "      <td>M</td>\n",
       "      <td>White</td>\n",
       "      <td>No</td>\n",
       "    </tr>\n",
       "    <tr>\n",
       "      <th>4</th>\n",
       "      <td>Nissan</td>\n",
       "      <td>2.0</td>\n",
       "      <td>NaN</td>\n",
       "      <td>D</td>\n",
       "      <td>M</td>\n",
       "      <td>Black</td>\n",
       "      <td>No</td>\n",
       "    </tr>\n",
       "    <tr>\n",
       "      <th>5</th>\n",
       "      <td>Ford</td>\n",
       "      <td>8.0</td>\n",
       "      <td>73000.0</td>\n",
       "      <td>NaN</td>\n",
       "      <td>M</td>\n",
       "      <td>Green</td>\n",
       "      <td>No</td>\n",
       "    </tr>\n",
       "    <tr>\n",
       "      <th>6</th>\n",
       "      <td>Toyota</td>\n",
       "      <td>NaN</td>\n",
       "      <td>138000.0</td>\n",
       "      <td>P</td>\n",
       "      <td>M</td>\n",
       "      <td>NaN</td>\n",
       "      <td>Yes</td>\n",
       "    </tr>\n",
       "    <tr>\n",
       "      <th>7</th>\n",
       "      <td>Nissan</td>\n",
       "      <td>20.0</td>\n",
       "      <td>38000.0</td>\n",
       "      <td>D</td>\n",
       "      <td>NaN</td>\n",
       "      <td>Green</td>\n",
       "      <td>Yes</td>\n",
       "    </tr>\n",
       "    <tr>\n",
       "      <th>8</th>\n",
       "      <td>Toyota</td>\n",
       "      <td>13.0</td>\n",
       "      <td>67000.0</td>\n",
       "      <td>D</td>\n",
       "      <td>A</td>\n",
       "      <td>Blue</td>\n",
       "      <td>No</td>\n",
       "    </tr>\n",
       "    <tr>\n",
       "      <th>9</th>\n",
       "      <td>Nissan</td>\n",
       "      <td>7.0</td>\n",
       "      <td>36000.0</td>\n",
       "      <td>P</td>\n",
       "      <td>M</td>\n",
       "      <td>Black</td>\n",
       "      <td>Yes</td>\n",
       "    </tr>\n",
       "  </tbody>\n",
       "</table>\n",
       "</div>"
      ],
      "text/plain": [
       "     Make   Age   Mileage Fuel Gearbox Colour Claimed\n",
       "0  Toyota   2.0   27000.0    P       A    Red     Yes\n",
       "1    Ford   4.0   30500.0    P       M  Black     Yes\n",
       "2  Toyota  15.0  120000.0    D       A  White      No\n",
       "3  Nissan  13.0   53000.0    D       M  White      No\n",
       "4  Nissan   2.0       NaN    D       M  Black      No\n",
       "5    Ford   8.0   73000.0  NaN       M  Green      No\n",
       "6  Toyota   NaN  138000.0    P       M    NaN     Yes\n",
       "7  Nissan  20.0   38000.0    D     NaN  Green     Yes\n",
       "8  Toyota  13.0   67000.0    D       A   Blue      No\n",
       "9  Nissan   7.0   36000.0    P       M  Black     Yes"
      ]
     },
     "execution_count": 19,
     "metadata": {},
     "output_type": "execute_result"
    }
   ],
   "source": [
    "df.iloc[:,:]"
   ]
  },
  {
   "cell_type": "code",
   "execution_count": 20,
   "id": "61e61a8b",
   "metadata": {},
   "outputs": [
    {
     "data": {
      "text/plain": [
       "0    Toyota\n",
       "1      Ford\n",
       "2    Toyota\n",
       "3    Nissan\n",
       "4    Nissan\n",
       "5      Ford\n",
       "6    Toyota\n",
       "7    Nissan\n",
       "8    Toyota\n",
       "9    Nissan\n",
       "Name: Make, dtype: object"
      ]
     },
     "execution_count": 20,
     "metadata": {},
     "output_type": "execute_result"
    }
   ],
   "source": [
    "df.iloc[:,0]"
   ]
  },
  {
   "cell_type": "code",
   "execution_count": 21,
   "id": "e48adfcb",
   "metadata": {},
   "outputs": [
    {
     "data": {
      "text/plain": [
       "'Toyota'"
      ]
     },
     "execution_count": 21,
     "metadata": {},
     "output_type": "execute_result"
    }
   ],
   "source": [
    "df.iloc[2,0]"
   ]
  },
  {
   "cell_type": "code",
   "execution_count": 22,
   "id": "d7f97a2a",
   "metadata": {},
   "outputs": [
    {
     "data": {
      "text/plain": [
       "'Ford'"
      ]
     },
     "execution_count": 22,
     "metadata": {},
     "output_type": "execute_result"
    }
   ],
   "source": [
    "df.iloc[1,0]"
   ]
  },
  {
   "cell_type": "code",
   "execution_count": 23,
   "id": "4526628a",
   "metadata": {},
   "outputs": [
    {
     "data": {
      "text/plain": [
       "Make          Ford\n",
       "Age            8.0\n",
       "Mileage    73000.0\n",
       "Fuel           NaN\n",
       "Gearbox          M\n",
       "Colour       Green\n",
       "Claimed         No\n",
       "Name: 5, dtype: object"
      ]
     },
     "execution_count": 23,
     "metadata": {},
     "output_type": "execute_result"
    }
   ],
   "source": [
    "df.iloc[5,:]"
   ]
  },
  {
   "cell_type": "code",
   "execution_count": 24,
   "id": "1679e9c5",
   "metadata": {},
   "outputs": [
    {
     "data": {
      "text/plain": [
       "0     2.0\n",
       "1     4.0\n",
       "2    15.0\n",
       "3    13.0\n",
       "4     2.0\n",
       "5     8.0\n",
       "6     NaN\n",
       "7    20.0\n",
       "8    13.0\n",
       "9     7.0\n",
       "Name: Age, dtype: float64"
      ]
     },
     "execution_count": 24,
     "metadata": {},
     "output_type": "execute_result"
    }
   ],
   "source": [
    "df['Age']"
   ]
  },
  {
   "cell_type": "code",
   "execution_count": 25,
   "id": "7883d1b6",
   "metadata": {},
   "outputs": [
    {
     "data": {
      "text/plain": [
       "0     2.0\n",
       "1     4.0\n",
       "2    15.0\n",
       "3    13.0\n",
       "4     2.0\n",
       "5     8.0\n",
       "6     NaN\n",
       "7    20.0\n",
       "8    13.0\n",
       "9     7.0\n",
       "Name: Age, dtype: float64"
      ]
     },
     "execution_count": 25,
     "metadata": {},
     "output_type": "execute_result"
    }
   ],
   "source": [
    "df.Age"
   ]
  },
  {
   "cell_type": "code",
   "execution_count": 29,
   "id": "aec39add",
   "metadata": {},
   "outputs": [
    {
     "data": {
      "text/plain": [
       "2.0"
      ]
     },
     "execution_count": 29,
     "metadata": {},
     "output_type": "execute_result"
    }
   ],
   "source": [
    "df.iloc[0,1]"
   ]
  },
  {
   "cell_type": "code",
   "execution_count": 30,
   "id": "ec86d08c",
   "metadata": {},
   "outputs": [
    {
     "data": {
      "text/plain": [
       "array(['Toyota', 'Ford', 'Nissan'], dtype=object)"
      ]
     },
     "execution_count": 30,
     "metadata": {},
     "output_type": "execute_result"
    }
   ],
   "source": [
    "df.iloc[:,0].unique()"
   ]
  },
  {
   "cell_type": "code",
   "execution_count": 36,
   "id": "1527c6ed",
   "metadata": {},
   "outputs": [
    {
     "data": {
      "text/plain": [
       "Toyota    4\n",
       "Nissan    4\n",
       "Ford      2\n",
       "Name: Make, dtype: int64"
      ]
     },
     "execution_count": 36,
     "metadata": {},
     "output_type": "execute_result"
    }
   ],
   "source": [
    "df.iloc[:,0].value_counts()"
   ]
  },
  {
   "cell_type": "code",
   "execution_count": 38,
   "id": "1b9e0e10",
   "metadata": {},
   "outputs": [
    {
     "data": {
      "text/plain": [
       "0    False\n",
       "1    False\n",
       "2    False\n",
       "3     True\n",
       "4     True\n",
       "5    False\n",
       "6    False\n",
       "7     True\n",
       "8    False\n",
       "9     True\n",
       "Name: Make, dtype: bool"
      ]
     },
     "execution_count": 38,
     "metadata": {},
     "output_type": "execute_result"
    }
   ],
   "source": [
    "df.iloc[:,0].isin(['Nissan'])"
   ]
  },
  {
   "cell_type": "code",
   "execution_count": 42,
   "id": "79b29cd5",
   "metadata": {},
   "outputs": [
    {
     "data": {
      "text/plain": [
       "0     True\n",
       "1    False\n",
       "2     True\n",
       "3    False\n",
       "4    False\n",
       "5    False\n",
       "6     True\n",
       "7    False\n",
       "8     True\n",
       "9    False\n",
       "Name: Make, dtype: bool"
      ]
     },
     "execution_count": 42,
     "metadata": {},
     "output_type": "execute_result"
    }
   ],
   "source": [
    "df.iloc[:,0].isin(['Toyota'])"
   ]
  },
  {
   "cell_type": "code",
   "execution_count": 44,
   "id": "73f017b9",
   "metadata": {},
   "outputs": [
    {
     "data": {
      "text/plain": [
       "0    False\n",
       "1    False\n",
       "2    False\n",
       "3    False\n",
       "4    False\n",
       "5    False\n",
       "6    False\n",
       "7    False\n",
       "8    False\n",
       "9    False\n",
       "Name: Make, dtype: bool"
      ]
     },
     "execution_count": 44,
     "metadata": {},
     "output_type": "execute_result"
    }
   ],
   "source": [
    "df.iloc[:,0].isin(['Skoda'])"
   ]
  },
  {
   "cell_type": "code",
   "execution_count": 45,
   "id": "8acb451a",
   "metadata": {},
   "outputs": [
    {
     "data": {
      "text/plain": [
       "0     2.0\n",
       "4     2.0\n",
       "1     4.0\n",
       "9     7.0\n",
       "5     8.0\n",
       "3    13.0\n",
       "8    13.0\n",
       "2    15.0\n",
       "7    20.0\n",
       "6     NaN\n",
       "Name: Age, dtype: float64"
      ]
     },
     "execution_count": 45,
     "metadata": {},
     "output_type": "execute_result"
    }
   ],
   "source": [
    "df.iloc[:,1].sort_values()"
   ]
  },
  {
   "cell_type": "code",
   "execution_count": 46,
   "id": "88fc6a54",
   "metadata": {},
   "outputs": [
    {
     "data": {
      "text/plain": [
       "7    20.0\n",
       "2    15.0\n",
       "3    13.0\n",
       "8    13.0\n",
       "5     8.0\n",
       "9     7.0\n",
       "1     4.0\n",
       "0     2.0\n",
       "4     2.0\n",
       "6     NaN\n",
       "Name: Age, dtype: float64"
      ]
     },
     "execution_count": 46,
     "metadata": {},
     "output_type": "execute_result"
    }
   ],
   "source": [
    "df.iloc[:,1].sort_values(ascending=False)"
   ]
  },
  {
   "cell_type": "code",
   "execution_count": 47,
   "id": "76eb5177",
   "metadata": {},
   "outputs": [
    {
     "data": {
      "text/plain": [
       "0    False\n",
       "1    False\n",
       "2    False\n",
       "3    False\n",
       "4    False\n",
       "5    False\n",
       "6     True\n",
       "7    False\n",
       "8    False\n",
       "9    False\n",
       "Name: Age, dtype: bool"
      ]
     },
     "execution_count": 47,
     "metadata": {},
     "output_type": "execute_result"
    }
   ],
   "source": [
    "df.iloc[:,1].isnull()"
   ]
  },
  {
   "cell_type": "code",
   "execution_count": 48,
   "id": "a2980713",
   "metadata": {},
   "outputs": [
    {
     "data": {
      "text/plain": [
       "True"
      ]
     },
     "execution_count": 48,
     "metadata": {},
     "output_type": "execute_result"
    }
   ],
   "source": [
    "df.iloc[:,1].isnull().values.any()"
   ]
  },
  {
   "cell_type": "code",
   "execution_count": 49,
   "id": "a0031bf3",
   "metadata": {},
   "outputs": [
    {
     "data": {
      "text/plain": [
       "2.0"
      ]
     },
     "execution_count": 49,
     "metadata": {},
     "output_type": "execute_result"
    }
   ],
   "source": [
    "df['Age'].min()"
   ]
  },
  {
   "cell_type": "code",
   "execution_count": 50,
   "id": "5efc966e",
   "metadata": {},
   "outputs": [
    {
     "data": {
      "text/plain": [
       "20.0"
      ]
     },
     "execution_count": 50,
     "metadata": {},
     "output_type": "execute_result"
    }
   ],
   "source": [
    "df['Age'].max()"
   ]
  },
  {
   "cell_type": "code",
   "execution_count": 51,
   "id": "26427390",
   "metadata": {},
   "outputs": [
    {
     "data": {
      "text/plain": [
       "9.333333333333334"
      ]
     },
     "execution_count": 51,
     "metadata": {},
     "output_type": "execute_result"
    }
   ],
   "source": [
    "df['Age'].mean()"
   ]
  },
  {
   "cell_type": "code",
   "execution_count": 55,
   "id": "2e64c312",
   "metadata": {},
   "outputs": [],
   "source": [
    "!pip install scikit-learn --quiet"
   ]
  },
  {
   "cell_type": "code",
   "execution_count": 56,
   "id": "b5657038",
   "metadata": {},
   "outputs": [],
   "source": [
    "import sklearn"
   ]
  },
  {
   "cell_type": "code",
   "execution_count": 57,
   "id": "3e3fe2e3",
   "metadata": {},
   "outputs": [
    {
     "data": {
      "text/html": [
       "<div>\n",
       "<style scoped>\n",
       "    .dataframe tbody tr th:only-of-type {\n",
       "        vertical-align: middle;\n",
       "    }\n",
       "\n",
       "    .dataframe tbody tr th {\n",
       "        vertical-align: top;\n",
       "    }\n",
       "\n",
       "    .dataframe thead th {\n",
       "        text-align: right;\n",
       "    }\n",
       "</style>\n",
       "<table border=\"1\" class=\"dataframe\">\n",
       "  <thead>\n",
       "    <tr style=\"text-align: right;\">\n",
       "      <th></th>\n",
       "      <th>Make</th>\n",
       "      <th>Age</th>\n",
       "      <th>Mileage</th>\n",
       "      <th>Fuel</th>\n",
       "      <th>Gearbox</th>\n",
       "      <th>Colour</th>\n",
       "      <th>Claimed</th>\n",
       "    </tr>\n",
       "  </thead>\n",
       "  <tbody>\n",
       "    <tr>\n",
       "      <th>0</th>\n",
       "      <td>Toyota</td>\n",
       "      <td>2.0</td>\n",
       "      <td>27000.0</td>\n",
       "      <td>P</td>\n",
       "      <td>A</td>\n",
       "      <td>Red</td>\n",
       "      <td>Yes</td>\n",
       "    </tr>\n",
       "    <tr>\n",
       "      <th>1</th>\n",
       "      <td>Ford</td>\n",
       "      <td>4.0</td>\n",
       "      <td>30500.0</td>\n",
       "      <td>P</td>\n",
       "      <td>M</td>\n",
       "      <td>Black</td>\n",
       "      <td>Yes</td>\n",
       "    </tr>\n",
       "    <tr>\n",
       "      <th>2</th>\n",
       "      <td>Toyota</td>\n",
       "      <td>15.0</td>\n",
       "      <td>120000.0</td>\n",
       "      <td>D</td>\n",
       "      <td>A</td>\n",
       "      <td>White</td>\n",
       "      <td>No</td>\n",
       "    </tr>\n",
       "    <tr>\n",
       "      <th>3</th>\n",
       "      <td>Nissan</td>\n",
       "      <td>13.0</td>\n",
       "      <td>53000.0</td>\n",
       "      <td>D</td>\n",
       "      <td>M</td>\n",
       "      <td>White</td>\n",
       "      <td>No</td>\n",
       "    </tr>\n",
       "    <tr>\n",
       "      <th>4</th>\n",
       "      <td>Nissan</td>\n",
       "      <td>2.0</td>\n",
       "      <td>NaN</td>\n",
       "      <td>D</td>\n",
       "      <td>M</td>\n",
       "      <td>Black</td>\n",
       "      <td>No</td>\n",
       "    </tr>\n",
       "    <tr>\n",
       "      <th>5</th>\n",
       "      <td>Ford</td>\n",
       "      <td>8.0</td>\n",
       "      <td>73000.0</td>\n",
       "      <td>NaN</td>\n",
       "      <td>M</td>\n",
       "      <td>Green</td>\n",
       "      <td>No</td>\n",
       "    </tr>\n",
       "    <tr>\n",
       "      <th>6</th>\n",
       "      <td>Toyota</td>\n",
       "      <td>NaN</td>\n",
       "      <td>138000.0</td>\n",
       "      <td>P</td>\n",
       "      <td>M</td>\n",
       "      <td>NaN</td>\n",
       "      <td>Yes</td>\n",
       "    </tr>\n",
       "    <tr>\n",
       "      <th>7</th>\n",
       "      <td>Nissan</td>\n",
       "      <td>20.0</td>\n",
       "      <td>38000.0</td>\n",
       "      <td>D</td>\n",
       "      <td>NaN</td>\n",
       "      <td>Green</td>\n",
       "      <td>Yes</td>\n",
       "    </tr>\n",
       "    <tr>\n",
       "      <th>8</th>\n",
       "      <td>Toyota</td>\n",
       "      <td>13.0</td>\n",
       "      <td>67000.0</td>\n",
       "      <td>D</td>\n",
       "      <td>A</td>\n",
       "      <td>Blue</td>\n",
       "      <td>No</td>\n",
       "    </tr>\n",
       "    <tr>\n",
       "      <th>9</th>\n",
       "      <td>Nissan</td>\n",
       "      <td>7.0</td>\n",
       "      <td>36000.0</td>\n",
       "      <td>P</td>\n",
       "      <td>M</td>\n",
       "      <td>Black</td>\n",
       "      <td>Yes</td>\n",
       "    </tr>\n",
       "  </tbody>\n",
       "</table>\n",
       "</div>"
      ],
      "text/plain": [
       "     Make   Age   Mileage Fuel Gearbox Colour Claimed\n",
       "0  Toyota   2.0   27000.0    P       A    Red     Yes\n",
       "1    Ford   4.0   30500.0    P       M  Black     Yes\n",
       "2  Toyota  15.0  120000.0    D       A  White      No\n",
       "3  Nissan  13.0   53000.0    D       M  White      No\n",
       "4  Nissan   2.0       NaN    D       M  Black      No\n",
       "5    Ford   8.0   73000.0  NaN       M  Green      No\n",
       "6  Toyota   NaN  138000.0    P       M    NaN     Yes\n",
       "7  Nissan  20.0   38000.0    D     NaN  Green     Yes\n",
       "8  Toyota  13.0   67000.0    D       A   Blue      No\n",
       "9  Nissan   7.0   36000.0    P       M  Black     Yes"
      ]
     },
     "execution_count": 57,
     "metadata": {},
     "output_type": "execute_result"
    }
   ],
   "source": [
    "df.iloc[:,:]"
   ]
  },
  {
   "cell_type": "code",
   "execution_count": 58,
   "id": "25ac3774",
   "metadata": {},
   "outputs": [
    {
     "data": {
      "text/plain": [
       "Make       0\n",
       "Age        1\n",
       "Mileage    1\n",
       "Fuel       1\n",
       "Gearbox    1\n",
       "Colour     1\n",
       "Claimed    0\n",
       "dtype: int64"
      ]
     },
     "execution_count": 58,
     "metadata": {},
     "output_type": "execute_result"
    }
   ],
   "source": [
    "df.isnull().sum()"
   ]
  },
  {
   "cell_type": "code",
   "execution_count": 59,
   "id": "6d1de8a8",
   "metadata": {},
   "outputs": [
    {
     "data": {
      "text/plain": [
       "'C:\\\\Users\\\\home'"
      ]
     },
     "execution_count": 59,
     "metadata": {},
     "output_type": "execute_result"
    }
   ],
   "source": [
    "pwd"
   ]
  },
  {
   "cell_type": "code",
   "execution_count": 60,
   "id": "ef53633a",
   "metadata": {},
   "outputs": [],
   "source": [
    "from sklearn.impute import SimpleImputer"
   ]
  },
  {
   "cell_type": "code",
   "execution_count": 61,
   "id": "bfa9ad5d",
   "metadata": {},
   "outputs": [
    {
     "data": {
      "text/plain": [
       "array([[2.00000000e+00, 2.70000000e+04],\n",
       "       [4.00000000e+00, 3.05000000e+04],\n",
       "       [1.50000000e+01, 1.20000000e+05],\n",
       "       [1.30000000e+01, 5.30000000e+04],\n",
       "       [2.00000000e+00, 6.47222222e+04],\n",
       "       [8.00000000e+00, 7.30000000e+04],\n",
       "       [9.33333333e+00, 1.38000000e+05],\n",
       "       [2.00000000e+01, 3.80000000e+04],\n",
       "       [1.30000000e+01, 6.70000000e+04],\n",
       "       [7.00000000e+00, 3.60000000e+04]])"
      ]
     },
     "execution_count": 61,
     "metadata": {},
     "output_type": "execute_result"
    }
   ],
   "source": [
    "# numerical variables\n",
    "# strategies: mean, median, most_frequent, constant\n",
    "import numpy as np\n",
    "numImputer = SimpleImputer(missing_values=np.nan, strategy='mean')\n",
    "numImputer = numImputer.fit(df[['Age','Mileage']])\n",
    "new_serr=numImputer.transform(df[['Age', 'Mileage']])\n",
    "new_serr"
   ]
  },
  {
   "cell_type": "code",
   "execution_count": 62,
   "id": "99c3b39b",
   "metadata": {},
   "outputs": [
    {
     "data": {
      "text/plain": [
       "array([[2.00e+00, 2.70e+04],\n",
       "       [4.00e+00, 3.05e+04],\n",
       "       [1.50e+01, 1.20e+05],\n",
       "       [1.30e+01, 5.30e+04],\n",
       "       [2.00e+00, 5.30e+04],\n",
       "       [8.00e+00, 7.30e+04],\n",
       "       [8.00e+00, 1.38e+05],\n",
       "       [2.00e+01, 3.80e+04],\n",
       "       [1.30e+01, 6.70e+04],\n",
       "       [7.00e+00, 3.60e+04]])"
      ]
     },
     "execution_count": 62,
     "metadata": {},
     "output_type": "execute_result"
    }
   ],
   "source": [
    "# numerical variables\n",
    "# strategies: mean, median, most_frequent, constant\n",
    "import numpy as np\n",
    "numImputer = SimpleImputer(missing_values=np.nan, strategy='median')\n",
    "numImputer = numImputer.fit(df[['Age','Mileage']])\n",
    "new_serr=numImputer.transform(df[['Age', 'Mileage']])\n",
    "new_serr"
   ]
  },
  {
   "cell_type": "code",
   "execution_count": 63,
   "id": "30737cde",
   "metadata": {},
   "outputs": [
    {
     "data": {
      "text/plain": [
       "array([[2.00e+00, 2.70e+04],\n",
       "       [4.00e+00, 3.05e+04],\n",
       "       [1.50e+01, 1.20e+05],\n",
       "       [1.30e+01, 5.30e+04],\n",
       "       [2.00e+00, 2.70e+04],\n",
       "       [8.00e+00, 7.30e+04],\n",
       "       [2.00e+00, 1.38e+05],\n",
       "       [2.00e+01, 3.80e+04],\n",
       "       [1.30e+01, 6.70e+04],\n",
       "       [7.00e+00, 3.60e+04]])"
      ]
     },
     "execution_count": 63,
     "metadata": {},
     "output_type": "execute_result"
    }
   ],
   "source": [
    "# numerical variables\n",
    "# strategies: mean, median, most_frequent, constant\n",
    "import numpy as np\n",
    "numImputer = SimpleImputer(missing_values=np.nan, strategy='most_frequent')\n",
    "numImputer = numImputer.fit(df[['Age','Mileage']])\n",
    "new_serr=numImputer.transform(df[['Age', 'Mileage']])\n",
    "new_serr"
   ]
  },
  {
   "cell_type": "code",
   "execution_count": 64,
   "id": "07ccba7d",
   "metadata": {},
   "outputs": [
    {
     "data": {
      "text/plain": [
       "array([[ 2.00e+00,  2.70e+04],\n",
       "       [ 4.00e+00,  3.05e+04],\n",
       "       [ 1.50e+01,  1.20e+05],\n",
       "       [ 1.30e+01,  5.30e+04],\n",
       "       [ 2.00e+00, -1.00e+00],\n",
       "       [ 8.00e+00,  7.30e+04],\n",
       "       [-1.00e+00,  1.38e+05],\n",
       "       [ 2.00e+01,  3.80e+04],\n",
       "       [ 1.30e+01,  6.70e+04],\n",
       "       [ 7.00e+00,  3.60e+04]])"
      ]
     },
     "execution_count": 64,
     "metadata": {},
     "output_type": "execute_result"
    }
   ],
   "source": [
    "# numerical variables\n",
    "# strategies: mean, median, most_frequent, constant\n",
    "import numpy as np\n",
    "numImputer = SimpleImputer(missing_values=np.nan, strategy='constant',fill_value=-1)\n",
    "numImputer = numImputer.fit(df[['Age','Mileage']])\n",
    "new_serr=numImputer.transform(df[['Age', 'Mileage']])\n",
    "new_serr"
   ]
  },
  {
   "cell_type": "code",
   "execution_count": 65,
   "id": "d34ed3c5",
   "metadata": {},
   "outputs": [
    {
     "data": {
      "text/plain": [
       "array([[2.00000000e+00, 2.70000000e+04],\n",
       "       [4.00000000e+00, 3.05000000e+04],\n",
       "       [1.50000000e+01, 1.20000000e+05],\n",
       "       [1.30000000e+01, 5.30000000e+04],\n",
       "       [2.00000000e+00, 6.47222222e+04],\n",
       "       [8.00000000e+00, 7.30000000e+04],\n",
       "       [9.33333333e+00, 1.38000000e+05],\n",
       "       [2.00000000e+01, 3.80000000e+04],\n",
       "       [1.30000000e+01, 6.70000000e+04],\n",
       "       [7.00000000e+00, 3.60000000e+04]])"
      ]
     },
     "execution_count": 65,
     "metadata": {},
     "output_type": "execute_result"
    }
   ],
   "source": [
    "# numerical variables\n",
    "# strategies: mean, median, most_frequent, constant\n",
    "import numpy as np\n",
    "numImputer = SimpleImputer(missing_values=np.nan, strategy='mean')\n",
    "numImputer = numImputer.fit(df[['Age','Mileage']])\n",
    "new_serr=numImputer.transform(df[['Age', 'Mileage']])\n",
    "new_serr"
   ]
  },
  {
   "cell_type": "code",
   "execution_count": null,
   "id": "78ce4adb",
   "metadata": {},
   "outputs": [],
   "source": []
  }
 ],
 "metadata": {
  "kernelspec": {
   "display_name": "Python 3 (ipykernel)",
   "language": "python",
   "name": "python3"
  },
  "language_info": {
   "codemirror_mode": {
    "name": "ipython",
    "version": 3
   },
   "file_extension": ".py",
   "mimetype": "text/x-python",
   "name": "python",
   "nbconvert_exporter": "python",
   "pygments_lexer": "ipython3",
   "version": "3.9.7"
  }
 },
 "nbformat": 4,
 "nbformat_minor": 5
}
